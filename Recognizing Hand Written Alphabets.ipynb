{
 "cells": [
  {
   "cell_type": "markdown",
   "id": "c743f631",
   "metadata": {},
   "source": [
    "## Image Data - Recognising Handwritten Alphabets"
   ]
  },
  {
   "cell_type": "markdown",
   "id": "24ac3b7b",
   "metadata": {},
   "source": [
    "## SPRINT 1 - Create DataFrame from raw Image Files"
   ]
  },
  {
   "cell_type": "markdown",
   "id": "18e353b4",
   "metadata": {},
   "source": [
    "### Importing the files"
   ]
  },
  {
   "cell_type": "code",
   "execution_count": 1,
   "id": "210b4b42",
   "metadata": {},
   "outputs": [],
   "source": [
    "# Importing the libraries\n",
    "import numpy as np\n",
    "import pandas as pd\n",
    "import matplotlib.pyplot as plt\n",
    "import seaborn as sns\n",
    "\n",
    "import os\n",
    "from PIL import Image"
   ]
  },
  {
   "cell_type": "markdown",
   "id": "ed4bf084",
   "metadata": {},
   "source": [
    "### Extract the zip file"
   ]
  },
  {
   "cell_type": "code",
   "execution_count": 2,
   "id": "50412535",
   "metadata": {},
   "outputs": [
    {
     "name": "stdout",
     "output_type": "stream",
     "text": [
      "CPU times: total: 7min 35s\n",
      "Wall time: 8min 26s\n"
     ]
    }
   ],
   "source": [
    "%%time\n",
    "import zipfile\n",
    "zip_file_path=r'C:\\Users\\LENOVO\\Downloads\\mnist.zip'\n",
    "extract_path = r'C:\\Users\\LENOVO\\Downloads\\alphabets'\n",
    "\n",
    "    \n",
    "# Extract the zip file\n",
    "with zipfile.ZipFile(zip_file_path, 'r') as zip_ref:\n",
    "    zip_ref.extractall(extract_path)"
   ]
  },
  {
   "cell_type": "markdown",
   "id": "6a63f74d",
   "metadata": {},
   "source": [
    "#### Walk through the folder"
   ]
  },
  {
   "cell_type": "code",
   "execution_count": 3,
   "id": "76fa05f4",
   "metadata": {
    "scrolled": false
   },
   "outputs": [
    {
     "name": "stdout",
     "output_type": "stream",
     "text": [
      "Reading images from C:\\Users\\LENOVO\\Downloads\\alphabets, Found 0 files.\n",
      "Reading images from C:\\Users\\LENOVO\\Downloads\\alphabets\\New folder, Found 0 files.\n",
      "Reading images from C:\\Users\\LENOVO\\Downloads\\alphabets\\New folder\\A, Found 13870 files.\n",
      "Reading images from C:\\Users\\LENOVO\\Downloads\\alphabets\\New folder\\B, Found 8668 files.\n",
      "Reading images from C:\\Users\\LENOVO\\Downloads\\alphabets\\New folder\\C, Found 23409 files.\n",
      "Reading images from C:\\Users\\LENOVO\\Downloads\\alphabets\\New folder\\D, Found 10134 files.\n",
      "Reading images from C:\\Users\\LENOVO\\Downloads\\alphabets\\New folder\\E, Found 11440 files.\n",
      "Reading images from C:\\Users\\LENOVO\\Downloads\\alphabets\\New folder\\F, Found 1163 files.\n",
      "Reading images from C:\\Users\\LENOVO\\Downloads\\alphabets\\New folder\\G, Found 5762 files.\n",
      "Reading images from C:\\Users\\LENOVO\\Downloads\\alphabets\\New folder\\H, Found 7218 files.\n",
      "Reading images from C:\\Users\\LENOVO\\Downloads\\alphabets\\New folder\\I, Found 1120 files.\n",
      "Reading images from C:\\Users\\LENOVO\\Downloads\\alphabets\\New folder\\J, Found 8493 files.\n",
      "Reading images from C:\\Users\\LENOVO\\Downloads\\alphabets\\New folder\\K, Found 5603 files.\n",
      "Reading images from C:\\Users\\LENOVO\\Downloads\\alphabets\\New folder\\L, Found 11586 files.\n",
      "Reading images from C:\\Users\\LENOVO\\Downloads\\alphabets\\New folder\\M, Found 12336 files.\n",
      "Reading images from C:\\Users\\LENOVO\\Downloads\\alphabets\\New folder\\N, Found 19010 files.\n",
      "Reading images from C:\\Users\\LENOVO\\Downloads\\alphabets\\New folder\\O, Found 57825 files.\n",
      "Reading images from C:\\Users\\LENOVO\\Downloads\\alphabets\\New folder\\P, Found 19341 files.\n",
      "Reading images from C:\\Users\\LENOVO\\Downloads\\alphabets\\New folder\\Q, Found 5812 files.\n",
      "Reading images from C:\\Users\\LENOVO\\Downloads\\alphabets\\New folder\\R, Found 11566 files.\n",
      "Reading images from C:\\Users\\LENOVO\\Downloads\\alphabets\\New folder\\S, Found 48419 files.\n",
      "Reading images from C:\\Users\\LENOVO\\Downloads\\alphabets\\New folder\\T, Found 22495 files.\n",
      "Reading images from C:\\Users\\LENOVO\\Downloads\\alphabets\\New folder\\U, Found 29008 files.\n",
      "Reading images from C:\\Users\\LENOVO\\Downloads\\alphabets\\New folder\\V, Found 4182 files.\n",
      "Reading images from C:\\Users\\LENOVO\\Downloads\\alphabets\\New folder\\W, Found 10784 files.\n",
      "Reading images from C:\\Users\\LENOVO\\Downloads\\alphabets\\New folder\\X, Found 6272 files.\n",
      "Reading images from C:\\Users\\LENOVO\\Downloads\\alphabets\\New folder\\Y, Found 10859 files.\n",
      "Reading images from C:\\Users\\LENOVO\\Downloads\\alphabets\\New folder\\Z, Found 6076 files.\n",
      "\n",
      "Total Number of Files: 372451\n",
      "File extension: {'.png'}\n"
     ]
    }
   ],
   "source": [
    "file_extensions=[]\n",
    "for root,dirs,files in os.walk(extract_path):\n",
    "    print(f\"Reading images from {root}, Found {len(files)} files.\")\n",
    "    for file_name in files:\n",
    "        file_extensions.append(os.path.splitext(file_name)[-1])\n",
    "        file_path=os.path.join(root, file_name)\n",
    "print()\n",
    "print(\"Total Number of Files:\", len(file_extensions))\n",
    "print(\"File extension:\", set(file_extensions))"
   ]
  },
  {
   "cell_type": "markdown",
   "id": "c7dba82e",
   "metadata": {},
   "source": [
    "### Image sizes, extensions and modes"
   ]
  },
  {
   "cell_type": "code",
   "execution_count": 4,
   "id": "a1a7efc4",
   "metadata": {},
   "outputs": [],
   "source": [
    "def read_image_files(path):\n",
    "    images_data = []\n",
    "    for root,dirs,files in os.walk(extract_path):\n",
    "        for file_name in files:\n",
    "            extension = os.path.splitext(file_name)[-1]\n",
    "            if extension in file_extensions:\n",
    "                file_path = os.path.join(root, file_name)\n",
    "                img=Image.open(file_path)\n",
    "                images_data.append({\"FileName\": file_name,\n",
    "                                    \"Extension\": extension,\n",
    "                                    \"Size\": img.size,\n",
    "                                    \"Mode\": img.mode,\n",
    "                                    \"Dir\": root})\n",
    "                \n",
    "    return images_data\n",
    "\n",
    "def load_into_df(images_data):\n",
    "    df=pd.DataFrame(images_data)\n",
    "    return df"
   ]
  },
  {
   "cell_type": "code",
   "execution_count": 5,
   "id": "88f02fbd",
   "metadata": {},
   "outputs": [
    {
     "data": {
      "text/html": [
       "<div>\n",
       "<style scoped>\n",
       "    .dataframe tbody tr th:only-of-type {\n",
       "        vertical-align: middle;\n",
       "    }\n",
       "\n",
       "    .dataframe tbody tr th {\n",
       "        vertical-align: top;\n",
       "    }\n",
       "\n",
       "    .dataframe thead th {\n",
       "        text-align: right;\n",
       "    }\n",
       "</style>\n",
       "<table border=\"1\" class=\"dataframe\">\n",
       "  <thead>\n",
       "    <tr style=\"text-align: right;\">\n",
       "      <th></th>\n",
       "      <th>FileName</th>\n",
       "      <th>Extension</th>\n",
       "      <th>Size</th>\n",
       "      <th>Mode</th>\n",
       "      <th>Dir</th>\n",
       "    </tr>\n",
       "  </thead>\n",
       "  <tbody>\n",
       "    <tr>\n",
       "      <th>0</th>\n",
       "      <td>A-0.png</td>\n",
       "      <td>.png</td>\n",
       "      <td>(28, 28)</td>\n",
       "      <td>L</td>\n",
       "      <td>C:\\Users\\LENOVO\\Downloads\\alphabets\\New folder\\A</td>\n",
       "    </tr>\n",
       "    <tr>\n",
       "      <th>1</th>\n",
       "      <td>A-1.png</td>\n",
       "      <td>.png</td>\n",
       "      <td>(28, 28)</td>\n",
       "      <td>L</td>\n",
       "      <td>C:\\Users\\LENOVO\\Downloads\\alphabets\\New folder\\A</td>\n",
       "    </tr>\n",
       "    <tr>\n",
       "      <th>2</th>\n",
       "      <td>A-10.png</td>\n",
       "      <td>.png</td>\n",
       "      <td>(28, 28)</td>\n",
       "      <td>L</td>\n",
       "      <td>C:\\Users\\LENOVO\\Downloads\\alphabets\\New folder\\A</td>\n",
       "    </tr>\n",
       "    <tr>\n",
       "      <th>3</th>\n",
       "      <td>A-100.png</td>\n",
       "      <td>.png</td>\n",
       "      <td>(28, 28)</td>\n",
       "      <td>L</td>\n",
       "      <td>C:\\Users\\LENOVO\\Downloads\\alphabets\\New folder\\A</td>\n",
       "    </tr>\n",
       "    <tr>\n",
       "      <th>4</th>\n",
       "      <td>A-1000.png</td>\n",
       "      <td>.png</td>\n",
       "      <td>(28, 28)</td>\n",
       "      <td>L</td>\n",
       "      <td>C:\\Users\\LENOVO\\Downloads\\alphabets\\New folder\\A</td>\n",
       "    </tr>\n",
       "  </tbody>\n",
       "</table>\n",
       "</div>"
      ],
      "text/plain": [
       "     FileName Extension      Size Mode  \\\n",
       "0     A-0.png      .png  (28, 28)    L   \n",
       "1     A-1.png      .png  (28, 28)    L   \n",
       "2    A-10.png      .png  (28, 28)    L   \n",
       "3   A-100.png      .png  (28, 28)    L   \n",
       "4  A-1000.png      .png  (28, 28)    L   \n",
       "\n",
       "                                                Dir  \n",
       "0  C:\\Users\\LENOVO\\Downloads\\alphabets\\New folder\\A  \n",
       "1  C:\\Users\\LENOVO\\Downloads\\alphabets\\New folder\\A  \n",
       "2  C:\\Users\\LENOVO\\Downloads\\alphabets\\New folder\\A  \n",
       "3  C:\\Users\\LENOVO\\Downloads\\alphabets\\New folder\\A  \n",
       "4  C:\\Users\\LENOVO\\Downloads\\alphabets\\New folder\\A  "
      ]
     },
     "execution_count": 5,
     "metadata": {},
     "output_type": "execute_result"
    }
   ],
   "source": [
    "images_data=read_image_files(extract_path)\n",
    "\n",
    "df=load_into_df(images_data)\n",
    "\n",
    "df.head()"
   ]
  },
  {
   "cell_type": "code",
   "execution_count": 6,
   "id": "ee0103df",
   "metadata": {},
   "outputs": [],
   "source": [
    "df.to_csv(\"alphabets.csv\")"
   ]
  },
  {
   "cell_type": "code",
   "execution_count": 8,
   "id": "92e3062c",
   "metadata": {},
   "outputs": [
    {
     "data": {
      "text/html": [
       "<div>\n",
       "<style scoped>\n",
       "    .dataframe tbody tr th:only-of-type {\n",
       "        vertical-align: middle;\n",
       "    }\n",
       "\n",
       "    .dataframe tbody tr th {\n",
       "        vertical-align: top;\n",
       "    }\n",
       "\n",
       "    .dataframe thead th {\n",
       "        text-align: right;\n",
       "    }\n",
       "</style>\n",
       "<table border=\"1\" class=\"dataframe\">\n",
       "  <thead>\n",
       "    <tr style=\"text-align: right;\">\n",
       "      <th></th>\n",
       "      <th>FileName</th>\n",
       "      <th>Extension</th>\n",
       "      <th>Size</th>\n",
       "      <th>Mode</th>\n",
       "      <th>Dir</th>\n",
       "    </tr>\n",
       "  </thead>\n",
       "  <tbody>\n",
       "    <tr>\n",
       "      <th>0</th>\n",
       "      <td>A-0.png</td>\n",
       "      <td>.png</td>\n",
       "      <td>(28, 28)</td>\n",
       "      <td>L</td>\n",
       "      <td>C:\\Users\\LENOVO\\Downloads\\alphabets\\New folder\\A</td>\n",
       "    </tr>\n",
       "    <tr>\n",
       "      <th>1</th>\n",
       "      <td>A-1.png</td>\n",
       "      <td>.png</td>\n",
       "      <td>(28, 28)</td>\n",
       "      <td>L</td>\n",
       "      <td>C:\\Users\\LENOVO\\Downloads\\alphabets\\New folder\\A</td>\n",
       "    </tr>\n",
       "    <tr>\n",
       "      <th>2</th>\n",
       "      <td>A-10.png</td>\n",
       "      <td>.png</td>\n",
       "      <td>(28, 28)</td>\n",
       "      <td>L</td>\n",
       "      <td>C:\\Users\\LENOVO\\Downloads\\alphabets\\New folder\\A</td>\n",
       "    </tr>\n",
       "    <tr>\n",
       "      <th>3</th>\n",
       "      <td>A-100.png</td>\n",
       "      <td>.png</td>\n",
       "      <td>(28, 28)</td>\n",
       "      <td>L</td>\n",
       "      <td>C:\\Users\\LENOVO\\Downloads\\alphabets\\New folder\\A</td>\n",
       "    </tr>\n",
       "    <tr>\n",
       "      <th>4</th>\n",
       "      <td>A-1000.png</td>\n",
       "      <td>.png</td>\n",
       "      <td>(28, 28)</td>\n",
       "      <td>L</td>\n",
       "      <td>C:\\Users\\LENOVO\\Downloads\\alphabets\\New folder\\A</td>\n",
       "    </tr>\n",
       "  </tbody>\n",
       "</table>\n",
       "</div>"
      ],
      "text/plain": [
       "     FileName Extension      Size Mode  \\\n",
       "0     A-0.png      .png  (28, 28)    L   \n",
       "1     A-1.png      .png  (28, 28)    L   \n",
       "2    A-10.png      .png  (28, 28)    L   \n",
       "3   A-100.png      .png  (28, 28)    L   \n",
       "4  A-1000.png      .png  (28, 28)    L   \n",
       "\n",
       "                                                Dir  \n",
       "0  C:\\Users\\LENOVO\\Downloads\\alphabets\\New folder\\A  \n",
       "1  C:\\Users\\LENOVO\\Downloads\\alphabets\\New folder\\A  \n",
       "2  C:\\Users\\LENOVO\\Downloads\\alphabets\\New folder\\A  \n",
       "3  C:\\Users\\LENOVO\\Downloads\\alphabets\\New folder\\A  \n",
       "4  C:\\Users\\LENOVO\\Downloads\\alphabets\\New folder\\A  "
      ]
     },
     "execution_count": 8,
     "metadata": {},
     "output_type": "execute_result"
    }
   ],
   "source": [
    "df.head()"
   ]
  },
  {
   "cell_type": "code",
   "execution_count": 9,
   "id": "bd367679",
   "metadata": {},
   "outputs": [
    {
     "data": {
      "text/plain": [
       "Extension\n",
       ".png    372451\n",
       "Name: count, dtype: int64"
      ]
     },
     "execution_count": 9,
     "metadata": {},
     "output_type": "execute_result"
    }
   ],
   "source": [
    "df['Extension'].value_counts()"
   ]
  },
  {
   "cell_type": "code",
   "execution_count": 10,
   "id": "1eaf7dc1",
   "metadata": {},
   "outputs": [
    {
     "data": {
      "text/plain": [
       "Size\n",
       "(28, 28)    372451\n",
       "Name: count, dtype: int64"
      ]
     },
     "execution_count": 10,
     "metadata": {},
     "output_type": "execute_result"
    }
   ],
   "source": [
    "df['Size'].value_counts()"
   ]
  },
  {
   "cell_type": "code",
   "execution_count": 11,
   "id": "85fa47bb",
   "metadata": {},
   "outputs": [
    {
     "data": {
      "text/plain": [
       "Mode\n",
       "L    372451\n",
       "Name: count, dtype: int64"
      ]
     },
     "execution_count": 11,
     "metadata": {},
     "output_type": "execute_result"
    }
   ],
   "source": [
    "df['Mode'].value_counts()"
   ]
  },
  {
   "cell_type": "code",
   "execution_count": 12,
   "id": "ed524531",
   "metadata": {},
   "outputs": [
    {
     "data": {
      "text/plain": [
       "Dir\n",
       "C:\\Users\\LENOVO\\Downloads\\alphabets\\New folder\\O    57825\n",
       "C:\\Users\\LENOVO\\Downloads\\alphabets\\New folder\\S    48419\n",
       "C:\\Users\\LENOVO\\Downloads\\alphabets\\New folder\\U    29008\n",
       "C:\\Users\\LENOVO\\Downloads\\alphabets\\New folder\\C    23409\n",
       "C:\\Users\\LENOVO\\Downloads\\alphabets\\New folder\\T    22495\n",
       "C:\\Users\\LENOVO\\Downloads\\alphabets\\New folder\\P    19341\n",
       "C:\\Users\\LENOVO\\Downloads\\alphabets\\New folder\\N    19010\n",
       "C:\\Users\\LENOVO\\Downloads\\alphabets\\New folder\\A    13870\n",
       "C:\\Users\\LENOVO\\Downloads\\alphabets\\New folder\\M    12336\n",
       "C:\\Users\\LENOVO\\Downloads\\alphabets\\New folder\\L    11586\n",
       "C:\\Users\\LENOVO\\Downloads\\alphabets\\New folder\\R    11566\n",
       "C:\\Users\\LENOVO\\Downloads\\alphabets\\New folder\\E    11440\n",
       "C:\\Users\\LENOVO\\Downloads\\alphabets\\New folder\\Y    10859\n",
       "C:\\Users\\LENOVO\\Downloads\\alphabets\\New folder\\W    10784\n",
       "C:\\Users\\LENOVO\\Downloads\\alphabets\\New folder\\D    10134\n",
       "C:\\Users\\LENOVO\\Downloads\\alphabets\\New folder\\B     8668\n",
       "C:\\Users\\LENOVO\\Downloads\\alphabets\\New folder\\J     8493\n",
       "C:\\Users\\LENOVO\\Downloads\\alphabets\\New folder\\H     7218\n",
       "C:\\Users\\LENOVO\\Downloads\\alphabets\\New folder\\X     6272\n",
       "C:\\Users\\LENOVO\\Downloads\\alphabets\\New folder\\Z     6076\n",
       "C:\\Users\\LENOVO\\Downloads\\alphabets\\New folder\\Q     5812\n",
       "C:\\Users\\LENOVO\\Downloads\\alphabets\\New folder\\G     5762\n",
       "C:\\Users\\LENOVO\\Downloads\\alphabets\\New folder\\K     5603\n",
       "C:\\Users\\LENOVO\\Downloads\\alphabets\\New folder\\V     4182\n",
       "C:\\Users\\LENOVO\\Downloads\\alphabets\\New folder\\F     1163\n",
       "C:\\Users\\LENOVO\\Downloads\\alphabets\\New folder\\I     1120\n",
       "Name: count, dtype: int64"
      ]
     },
     "execution_count": 12,
     "metadata": {},
     "output_type": "execute_result"
    }
   ],
   "source": [
    "df['Dir'].value_counts()"
   ]
  },
  {
   "cell_type": "markdown",
   "id": "fc3c1980",
   "metadata": {},
   "source": [
    "### Creating a Data Frame"
   ]
  },
  {
   "cell_type": "code",
   "execution_count": 2,
   "id": "c336f714",
   "metadata": {},
   "outputs": [],
   "source": [
    "path = r'C:\\Users\\LENOVO\\Downloads\\alphabets\\New folder'"
   ]
  },
  {
   "cell_type": "code",
   "execution_count": 3,
   "id": "de7c9a90",
   "metadata": {},
   "outputs": [],
   "source": [
    "def vectorize_image_files(path):\n",
    "    image_vectors = []\n",
    "    image_labels=[]\n",
    "    labels=[dir_name for dir_name in os.listdir(path) if os.path.isdir(os.path.join(path,dir_name))]\n",
    "    for label in labels:\n",
    "        i=0\n",
    "        label_dir = os.path.join(path,label)\n",
    "        if os.path.isdir(label_dir):\n",
    "            for image_file in os.listdir(label_dir):\n",
    "                i=i+1\n",
    "                image_file_path=os.path.join(label_dir, image_file)\n",
    "                with Image.open(image_file_path) as img:\n",
    "                    # vectorize\n",
    "                    img_arr=np.array(img)\n",
    "                    image_vector=img_arr.ravel()\n",
    "                    image_vectors.append(image_vector)\n",
    "                    image_labels.append(label)\n",
    "                if i>1000:\n",
    "                    break\n",
    "    return image_vectors, image_labels\n",
    "\n"
   ]
  },
  {
   "cell_type": "code",
   "execution_count": 4,
   "id": "1a9413a2",
   "metadata": {},
   "outputs": [
    {
     "name": "stdout",
     "output_type": "stream",
     "text": [
      "CPU times: total: 25 s\n",
      "Wall time: 31.3 s\n"
     ]
    }
   ],
   "source": [
    "%%time\n",
    "image_vectors, image_labels = vectorize_image_files(path)"
   ]
  },
  {
   "cell_type": "code",
   "execution_count": 5,
   "id": "1e9ccfb2",
   "metadata": {
    "scrolled": true
   },
   "outputs": [],
   "source": [
    "def load_vectors_into_df(image_vectors,image_labels):\n",
    "    df=pd.DataFrame(image_vectors,columns=[f'pixel_{i}' for i in range(len(image_vectors[0]))])\n",
    "    df['labels'] = image_labels\n",
    "    return df"
   ]
  },
  {
   "cell_type": "code",
   "execution_count": 6,
   "id": "0857d61a",
   "metadata": {},
   "outputs": [
    {
     "name": "stdout",
     "output_type": "stream",
     "text": [
      "CPU times: total: 6min 30s\n",
      "Wall time: 6min 35s\n"
     ]
    }
   ],
   "source": [
    "%%time\n",
    "df=load_vectors_into_df(image_vectors,image_labels)"
   ]
  },
  {
   "cell_type": "code",
   "execution_count": 7,
   "id": "2368b0fb",
   "metadata": {},
   "outputs": [
    {
     "data": {
      "text/html": [
       "<div>\n",
       "<style scoped>\n",
       "    .dataframe tbody tr th:only-of-type {\n",
       "        vertical-align: middle;\n",
       "    }\n",
       "\n",
       "    .dataframe tbody tr th {\n",
       "        vertical-align: top;\n",
       "    }\n",
       "\n",
       "    .dataframe thead th {\n",
       "        text-align: right;\n",
       "    }\n",
       "</style>\n",
       "<table border=\"1\" class=\"dataframe\">\n",
       "  <thead>\n",
       "    <tr style=\"text-align: right;\">\n",
       "      <th></th>\n",
       "      <th>pixel_0</th>\n",
       "      <th>pixel_1</th>\n",
       "      <th>pixel_2</th>\n",
       "      <th>pixel_3</th>\n",
       "      <th>pixel_4</th>\n",
       "      <th>pixel_5</th>\n",
       "      <th>pixel_6</th>\n",
       "      <th>pixel_7</th>\n",
       "      <th>pixel_8</th>\n",
       "      <th>pixel_9</th>\n",
       "      <th>...</th>\n",
       "      <th>pixel_775</th>\n",
       "      <th>pixel_776</th>\n",
       "      <th>pixel_777</th>\n",
       "      <th>pixel_778</th>\n",
       "      <th>pixel_779</th>\n",
       "      <th>pixel_780</th>\n",
       "      <th>pixel_781</th>\n",
       "      <th>pixel_782</th>\n",
       "      <th>pixel_783</th>\n",
       "      <th>labels</th>\n",
       "    </tr>\n",
       "  </thead>\n",
       "  <tbody>\n",
       "    <tr>\n",
       "      <th>0</th>\n",
       "      <td>0</td>\n",
       "      <td>0</td>\n",
       "      <td>0</td>\n",
       "      <td>0</td>\n",
       "      <td>0</td>\n",
       "      <td>0</td>\n",
       "      <td>0</td>\n",
       "      <td>0</td>\n",
       "      <td>0</td>\n",
       "      <td>0</td>\n",
       "      <td>...</td>\n",
       "      <td>0</td>\n",
       "      <td>0</td>\n",
       "      <td>0</td>\n",
       "      <td>0</td>\n",
       "      <td>0</td>\n",
       "      <td>0</td>\n",
       "      <td>0</td>\n",
       "      <td>0</td>\n",
       "      <td>0</td>\n",
       "      <td>A</td>\n",
       "    </tr>\n",
       "    <tr>\n",
       "      <th>1</th>\n",
       "      <td>0</td>\n",
       "      <td>0</td>\n",
       "      <td>0</td>\n",
       "      <td>0</td>\n",
       "      <td>0</td>\n",
       "      <td>0</td>\n",
       "      <td>0</td>\n",
       "      <td>0</td>\n",
       "      <td>0</td>\n",
       "      <td>0</td>\n",
       "      <td>...</td>\n",
       "      <td>0</td>\n",
       "      <td>0</td>\n",
       "      <td>0</td>\n",
       "      <td>0</td>\n",
       "      <td>0</td>\n",
       "      <td>0</td>\n",
       "      <td>0</td>\n",
       "      <td>0</td>\n",
       "      <td>0</td>\n",
       "      <td>A</td>\n",
       "    </tr>\n",
       "    <tr>\n",
       "      <th>2</th>\n",
       "      <td>0</td>\n",
       "      <td>0</td>\n",
       "      <td>0</td>\n",
       "      <td>0</td>\n",
       "      <td>0</td>\n",
       "      <td>0</td>\n",
       "      <td>0</td>\n",
       "      <td>0</td>\n",
       "      <td>0</td>\n",
       "      <td>0</td>\n",
       "      <td>...</td>\n",
       "      <td>0</td>\n",
       "      <td>0</td>\n",
       "      <td>0</td>\n",
       "      <td>0</td>\n",
       "      <td>0</td>\n",
       "      <td>0</td>\n",
       "      <td>0</td>\n",
       "      <td>0</td>\n",
       "      <td>0</td>\n",
       "      <td>A</td>\n",
       "    </tr>\n",
       "    <tr>\n",
       "      <th>3</th>\n",
       "      <td>0</td>\n",
       "      <td>0</td>\n",
       "      <td>0</td>\n",
       "      <td>0</td>\n",
       "      <td>0</td>\n",
       "      <td>0</td>\n",
       "      <td>0</td>\n",
       "      <td>0</td>\n",
       "      <td>0</td>\n",
       "      <td>0</td>\n",
       "      <td>...</td>\n",
       "      <td>0</td>\n",
       "      <td>0</td>\n",
       "      <td>0</td>\n",
       "      <td>0</td>\n",
       "      <td>0</td>\n",
       "      <td>0</td>\n",
       "      <td>0</td>\n",
       "      <td>0</td>\n",
       "      <td>0</td>\n",
       "      <td>A</td>\n",
       "    </tr>\n",
       "    <tr>\n",
       "      <th>4</th>\n",
       "      <td>0</td>\n",
       "      <td>0</td>\n",
       "      <td>0</td>\n",
       "      <td>0</td>\n",
       "      <td>0</td>\n",
       "      <td>0</td>\n",
       "      <td>0</td>\n",
       "      <td>0</td>\n",
       "      <td>0</td>\n",
       "      <td>0</td>\n",
       "      <td>...</td>\n",
       "      <td>0</td>\n",
       "      <td>0</td>\n",
       "      <td>0</td>\n",
       "      <td>0</td>\n",
       "      <td>0</td>\n",
       "      <td>0</td>\n",
       "      <td>0</td>\n",
       "      <td>0</td>\n",
       "      <td>0</td>\n",
       "      <td>A</td>\n",
       "    </tr>\n",
       "  </tbody>\n",
       "</table>\n",
       "<p>5 rows × 785 columns</p>\n",
       "</div>"
      ],
      "text/plain": [
       "   pixel_0  pixel_1  pixel_2  pixel_3  pixel_4  pixel_5  pixel_6  pixel_7  \\\n",
       "0        0        0        0        0        0        0        0        0   \n",
       "1        0        0        0        0        0        0        0        0   \n",
       "2        0        0        0        0        0        0        0        0   \n",
       "3        0        0        0        0        0        0        0        0   \n",
       "4        0        0        0        0        0        0        0        0   \n",
       "\n",
       "   pixel_8  pixel_9  ...  pixel_775  pixel_776  pixel_777  pixel_778  \\\n",
       "0        0        0  ...          0          0          0          0   \n",
       "1        0        0  ...          0          0          0          0   \n",
       "2        0        0  ...          0          0          0          0   \n",
       "3        0        0  ...          0          0          0          0   \n",
       "4        0        0  ...          0          0          0          0   \n",
       "\n",
       "   pixel_779  pixel_780  pixel_781  pixel_782  pixel_783  labels  \n",
       "0          0          0          0          0          0       A  \n",
       "1          0          0          0          0          0       A  \n",
       "2          0          0          0          0          0       A  \n",
       "3          0          0          0          0          0       A  \n",
       "4          0          0          0          0          0       A  \n",
       "\n",
       "[5 rows x 785 columns]"
      ]
     },
     "execution_count": 7,
     "metadata": {},
     "output_type": "execute_result"
    }
   ],
   "source": [
    "df.head()"
   ]
  },
  {
   "cell_type": "code",
   "execution_count": 8,
   "id": "20ca8fb0",
   "metadata": {},
   "outputs": [],
   "source": [
    "df.to_csv(\"images_data.csv\")"
   ]
  },
  {
   "cell_type": "markdown",
   "id": "0f89f630",
   "metadata": {},
   "source": [
    "## Step 1 - Load the data"
   ]
  },
  {
   "cell_type": "code",
   "execution_count": 9,
   "id": "2c00e36b",
   "metadata": {},
   "outputs": [],
   "source": [
    "df=pd.read_csv(r'C:\\Users\\LENOVO\\Machine Learning\\Projects\\Hand Written Alphabets\\images_data.csv')"
   ]
  },
  {
   "cell_type": "code",
   "execution_count": 14,
   "id": "636a96e7",
   "metadata": {},
   "outputs": [
    {
     "data": {
      "text/html": [
       "<div>\n",
       "<style scoped>\n",
       "    .dataframe tbody tr th:only-of-type {\n",
       "        vertical-align: middle;\n",
       "    }\n",
       "\n",
       "    .dataframe tbody tr th {\n",
       "        vertical-align: top;\n",
       "    }\n",
       "\n",
       "    .dataframe thead th {\n",
       "        text-align: right;\n",
       "    }\n",
       "</style>\n",
       "<table border=\"1\" class=\"dataframe\">\n",
       "  <thead>\n",
       "    <tr style=\"text-align: right;\">\n",
       "      <th></th>\n",
       "      <th>Unnamed: 0</th>\n",
       "      <th>pixel_0</th>\n",
       "      <th>pixel_1</th>\n",
       "      <th>pixel_2</th>\n",
       "      <th>pixel_3</th>\n",
       "      <th>pixel_4</th>\n",
       "      <th>pixel_5</th>\n",
       "      <th>pixel_6</th>\n",
       "      <th>pixel_7</th>\n",
       "      <th>pixel_8</th>\n",
       "      <th>...</th>\n",
       "      <th>pixel_775</th>\n",
       "      <th>pixel_776</th>\n",
       "      <th>pixel_777</th>\n",
       "      <th>pixel_778</th>\n",
       "      <th>pixel_779</th>\n",
       "      <th>pixel_780</th>\n",
       "      <th>pixel_781</th>\n",
       "      <th>pixel_782</th>\n",
       "      <th>pixel_783</th>\n",
       "      <th>labels</th>\n",
       "    </tr>\n",
       "  </thead>\n",
       "  <tbody>\n",
       "    <tr>\n",
       "      <th>0</th>\n",
       "      <td>0</td>\n",
       "      <td>0</td>\n",
       "      <td>0</td>\n",
       "      <td>0</td>\n",
       "      <td>0</td>\n",
       "      <td>0</td>\n",
       "      <td>0</td>\n",
       "      <td>0</td>\n",
       "      <td>0</td>\n",
       "      <td>0</td>\n",
       "      <td>...</td>\n",
       "      <td>0</td>\n",
       "      <td>0</td>\n",
       "      <td>0</td>\n",
       "      <td>0</td>\n",
       "      <td>0</td>\n",
       "      <td>0</td>\n",
       "      <td>0</td>\n",
       "      <td>0</td>\n",
       "      <td>0</td>\n",
       "      <td>A</td>\n",
       "    </tr>\n",
       "    <tr>\n",
       "      <th>1</th>\n",
       "      <td>1</td>\n",
       "      <td>0</td>\n",
       "      <td>0</td>\n",
       "      <td>0</td>\n",
       "      <td>0</td>\n",
       "      <td>0</td>\n",
       "      <td>0</td>\n",
       "      <td>0</td>\n",
       "      <td>0</td>\n",
       "      <td>0</td>\n",
       "      <td>...</td>\n",
       "      <td>0</td>\n",
       "      <td>0</td>\n",
       "      <td>0</td>\n",
       "      <td>0</td>\n",
       "      <td>0</td>\n",
       "      <td>0</td>\n",
       "      <td>0</td>\n",
       "      <td>0</td>\n",
       "      <td>0</td>\n",
       "      <td>A</td>\n",
       "    </tr>\n",
       "    <tr>\n",
       "      <th>2</th>\n",
       "      <td>2</td>\n",
       "      <td>0</td>\n",
       "      <td>0</td>\n",
       "      <td>0</td>\n",
       "      <td>0</td>\n",
       "      <td>0</td>\n",
       "      <td>0</td>\n",
       "      <td>0</td>\n",
       "      <td>0</td>\n",
       "      <td>0</td>\n",
       "      <td>...</td>\n",
       "      <td>0</td>\n",
       "      <td>0</td>\n",
       "      <td>0</td>\n",
       "      <td>0</td>\n",
       "      <td>0</td>\n",
       "      <td>0</td>\n",
       "      <td>0</td>\n",
       "      <td>0</td>\n",
       "      <td>0</td>\n",
       "      <td>A</td>\n",
       "    </tr>\n",
       "    <tr>\n",
       "      <th>3</th>\n",
       "      <td>3</td>\n",
       "      <td>0</td>\n",
       "      <td>0</td>\n",
       "      <td>0</td>\n",
       "      <td>0</td>\n",
       "      <td>0</td>\n",
       "      <td>0</td>\n",
       "      <td>0</td>\n",
       "      <td>0</td>\n",
       "      <td>0</td>\n",
       "      <td>...</td>\n",
       "      <td>0</td>\n",
       "      <td>0</td>\n",
       "      <td>0</td>\n",
       "      <td>0</td>\n",
       "      <td>0</td>\n",
       "      <td>0</td>\n",
       "      <td>0</td>\n",
       "      <td>0</td>\n",
       "      <td>0</td>\n",
       "      <td>A</td>\n",
       "    </tr>\n",
       "    <tr>\n",
       "      <th>4</th>\n",
       "      <td>4</td>\n",
       "      <td>0</td>\n",
       "      <td>0</td>\n",
       "      <td>0</td>\n",
       "      <td>0</td>\n",
       "      <td>0</td>\n",
       "      <td>0</td>\n",
       "      <td>0</td>\n",
       "      <td>0</td>\n",
       "      <td>0</td>\n",
       "      <td>...</td>\n",
       "      <td>0</td>\n",
       "      <td>0</td>\n",
       "      <td>0</td>\n",
       "      <td>0</td>\n",
       "      <td>0</td>\n",
       "      <td>0</td>\n",
       "      <td>0</td>\n",
       "      <td>0</td>\n",
       "      <td>0</td>\n",
       "      <td>A</td>\n",
       "    </tr>\n",
       "  </tbody>\n",
       "</table>\n",
       "<p>5 rows × 786 columns</p>\n",
       "</div>"
      ],
      "text/plain": [
       "   Unnamed: 0  pixel_0  pixel_1  pixel_2  pixel_3  pixel_4  pixel_5  pixel_6  \\\n",
       "0           0        0        0        0        0        0        0        0   \n",
       "1           1        0        0        0        0        0        0        0   \n",
       "2           2        0        0        0        0        0        0        0   \n",
       "3           3        0        0        0        0        0        0        0   \n",
       "4           4        0        0        0        0        0        0        0   \n",
       "\n",
       "   pixel_7  pixel_8  ...  pixel_775  pixel_776  pixel_777  pixel_778  \\\n",
       "0        0        0  ...          0          0          0          0   \n",
       "1        0        0  ...          0          0          0          0   \n",
       "2        0        0  ...          0          0          0          0   \n",
       "3        0        0  ...          0          0          0          0   \n",
       "4        0        0  ...          0          0          0          0   \n",
       "\n",
       "   pixel_779  pixel_780  pixel_781  pixel_782  pixel_783  labels  \n",
       "0          0          0          0          0          0       A  \n",
       "1          0          0          0          0          0       A  \n",
       "2          0          0          0          0          0       A  \n",
       "3          0          0          0          0          0       A  \n",
       "4          0          0          0          0          0       A  \n",
       "\n",
       "[5 rows x 786 columns]"
      ]
     },
     "execution_count": 14,
     "metadata": {},
     "output_type": "execute_result"
    }
   ],
   "source": [
    "df.head()"
   ]
  },
  {
   "cell_type": "code",
   "execution_count": 15,
   "id": "5e0a6142",
   "metadata": {},
   "outputs": [],
   "source": [
    "df.drop(columns='Unnamed: 0', inplace=True)"
   ]
  },
  {
   "cell_type": "code",
   "execution_count": 16,
   "id": "20599754",
   "metadata": {
    "scrolled": false
   },
   "outputs": [
    {
     "data": {
      "text/plain": [
       "(26026, 785)"
      ]
     },
     "execution_count": 16,
     "metadata": {},
     "output_type": "execute_result"
    }
   ],
   "source": [
    "df.shape"
   ]
  },
  {
   "cell_type": "code",
   "execution_count": 17,
   "id": "47be07b2",
   "metadata": {},
   "outputs": [
    {
     "data": {
      "text/plain": [
       "labels\n",
       "A    1001\n",
       "B    1001\n",
       "Y    1001\n",
       "X    1001\n",
       "W    1001\n",
       "V    1001\n",
       "U    1001\n",
       "T    1001\n",
       "S    1001\n",
       "R    1001\n",
       "Q    1001\n",
       "P    1001\n",
       "O    1001\n",
       "N    1001\n",
       "M    1001\n",
       "L    1001\n",
       "K    1001\n",
       "J    1001\n",
       "I    1001\n",
       "H    1001\n",
       "G    1001\n",
       "F    1001\n",
       "E    1001\n",
       "D    1001\n",
       "C    1001\n",
       "Z    1001\n",
       "Name: count, dtype: int64"
      ]
     },
     "execution_count": 17,
     "metadata": {},
     "output_type": "execute_result"
    }
   ],
   "source": [
    "df['labels'].value_counts()"
   ]
  },
  {
   "cell_type": "code",
   "execution_count": null,
   "id": "2573b132",
   "metadata": {},
   "outputs": [],
   "source": []
  },
  {
   "cell_type": "markdown",
   "id": "52be3f52",
   "metadata": {},
   "source": [
    "## Step - Exploratory Data Analysis"
   ]
  },
  {
   "cell_type": "markdown",
   "id": "e5d43359",
   "metadata": {},
   "source": [
    "### 1. Show me some nice analysis on the given data.\n"
   ]
  },
  {
   "cell_type": "code",
   "execution_count": 18,
   "id": "54930100",
   "metadata": {},
   "outputs": [
    {
     "data": {
      "text/plain": [
       "<Axes: xlabel='labels', ylabel='count'>"
      ]
     },
     "execution_count": 18,
     "metadata": {},
     "output_type": "execute_result"
    },
    {
     "data": {
      "image/png": "[encoded data removed]",
      "text/plain": [
       "<Figure size 640x480 with 1 Axes>"
      ]
     },
     "metadata": {},
     "output_type": "display_data"
    }
   ],
   "source": [
    "sns.countplot(data=df,x='labels')"
   ]
  },
  {
   "cell_type": "code",
   "execution_count": 19,
   "id": "6125ed95",
   "metadata": {},
   "outputs": [
    {
     "name": "stdout",
     "output_type": "stream",
     "text": [
      "Randomly Generated index: 11791\n",
      "Label of image at 11791 index: L\n",
      "Data Type of Image Array: object\n",
      "Image Array:\n",
      " [[0 0 0 0 0 0 0 0 0 0 0 0 0 0 0 0 0 0 0 0 0 0 0 0 0 0 0 0]\n",
      " [0 0 0 0 0 0 0 0 0 0 0 0 0 0 0 0 0 0 0 0 0 0 0 0 0 0 0 0]\n",
      " [0 0 0 0 0 0 0 0 0 0 0 0 0 0 0 0 0 0 0 0 0 0 0 0 0 0 0 0]\n",
      " [0 0 0 0 0 0 0 0 0 0 0 0 0 0 0 0 0 0 0 0 0 0 0 0 0 0 0 0]\n",
      " [0 0 0 0 0 0 0 0 0 0 255 255 0 0 0 0 0 0 0 0 0 0 0 0 0 0 0 0]\n",
      " [0 0 0 0 0 0 0 0 0 0 255 255 0 0 0 0 0 0 0 0 0 0 0 0 0 0 0 0]\n",
      " [0 0 0 0 0 0 0 0 0 0 255 255 0 0 0 0 0 0 0 0 0 0 0 0 0 0 0 0]\n",
      " [0 0 0 0 0 0 0 0 0 0 255 255 0 0 0 0 0 0 0 0 0 0 0 0 0 0 0 0]\n",
      " [0 0 0 0 0 0 0 0 0 0 255 255 0 0 0 0 0 0 0 0 0 0 0 0 0 0 0 0]\n",
      " [0 0 0 0 0 0 0 0 0 0 255 255 0 0 0 0 0 0 0 0 0 0 0 0 0 0 0 0]\n",
      " [0 0 0 0 0 0 0 0 0 128 255 255 0 0 0 0 0 0 0 0 0 0 0 0 0 0 0 0]\n",
      " [0 0 0 0 0 0 0 0 0 191 255 255 0 0 0 0 0 0 0 0 0 0 0 0 0 0 0 0]\n",
      " [0 0 0 0 0 0 0 0 0 255 255 255 0 0 0 0 0 0 0 0 0 0 0 0 0 0 0 0]\n",
      " [0 0 0 0 0 0 0 0 0 255 255 191 0 0 0 0 0 0 0 0 0 0 0 0 0 0 0 0]\n",
      " [0 0 0 0 0 0 0 0 0 255 255 64 0 0 0 0 0 0 0 0 0 0 0 0 0 0 0 0]\n",
      " [0 0 0 0 0 0 0 0 0 255 255 0 0 0 0 0 0 0 0 0 0 0 0 0 0 0 0 0]\n",
      " [0 0 0 0 0 0 0 0 64 255 191 0 0 0 0 0 0 0 0 0 0 0 0 0 0 0 0 0]\n",
      " [0 0 0 0 0 0 0 0 64 255 128 0 0 0 0 0 0 0 0 0 0 0 0 0 0 0 0 0]\n",
      " [0 0 0 0 0 0 0 0 191 255 128 0 0 0 0 0 0 0 0 0 0 0 0 0 0 0 0 0]\n",
      " [0 0 0 0 0 0 0 0 255 255 128 0 0 0 0 0 0 0 0 64 0 0 0 0 0 0 0 0]\n",
      " [0 0 0 0 0 0 0 0 255 255 128 0 0 0 0 128 128 191 255 255 0 0 0 0 0 0 0 0]\n",
      " [0 0 0 0 0 0 0 0 255 255 255 255 255 255 255 255 255 255 255 191 0 0 0 0\n",
      "  0 0 0 0]\n",
      " [0 0 0 0 0 0 0 0 64 255 255 255 255 255 255 255 255 128 64 0 0 0 0 0 0 0\n",
      "  0 0]\n",
      " [0 0 0 0 0 0 0 0 0 128 128 191 255 191 128 0 0 0 0 0 0 0 0 0 0 0 0 0]\n",
      " [0 0 0 0 0 0 0 0 0 0 0 0 0 0 0 0 0 0 0 0 0 0 0 0 0 0 0 0]\n",
      " [0 0 0 0 0 0 0 0 0 0 0 0 0 0 0 0 0 0 0 0 0 0 0 0 0 0 0 0]\n",
      " [0 0 0 0 0 0 0 0 0 0 0 0 0 0 0 0 0 0 0 0 0 0 0 0 0 0 0 0]\n",
      " [0 0 0 0 0 0 0 0 0 0 0 0 0 0 0 0 0 0 0 0 0 0 0 0 0 0 0 0]]\n"
     ]
    },
    {
     "data": {
      "text/plain": [
       "<matplotlib.image.AxesImage at 0x25f4aac6810>"
      ]
     },
     "execution_count": 19,
     "metadata": {},
     "output_type": "execute_result"
    },
    {
     "data": {
      "image/png": "[encoded data removed]",
      "text/plain": [
       "<Figure size 640x480 with 1 Axes>"
      ]
     },
     "metadata": {},
     "output_type": "display_data"
    }
   ],
   "source": [
    "indx=np.random.randint(0, 26026)\n",
    "print(\"Randomly Generated index:\",indx)\n",
    "print(f\"Label of image at {indx} index:\", df.iloc[indx,-1])\n",
    "\n",
    "img=np.reshape(df.iloc[indx,0:-1], (28,28))\n",
    "print(\"Data Type of Image Array:\",img.dtype)\n",
    "print(\"Image Array:\\n\",img)\n",
    "\n",
    "img=img.astype(\"float\")\n",
    "plt.imshow(img)"
   ]
  },
  {
   "cell_type": "code",
   "execution_count": 20,
   "id": "304fd245",
   "metadata": {},
   "outputs": [
    {
     "name": "stdout",
     "output_type": "stream",
     "text": [
      "[22512  1264 14997 16500 10874 19877 24937 22967  3300]\n"
     ]
    },
    {
     "data": {
      "image/png": "[encoded data removed]",
      "text/plain": [
       "<Figure size 1200x1200 with 9 Axes>"
      ]
     },
     "metadata": {},
     "output_type": "display_data"
    }
   ],
   "source": [
    "plt.figure(figsize=(12,12))\n",
    "indx=np.random.randint(1,df.shape[0],9)\n",
    "print(indx)\n",
    "\n",
    "for i in range(len(indx)):\n",
    "    plt.subplot(3,3,i+1)\n",
    "    label=df.iloc[indx[i],-1]\n",
    "    plt.title(label)\n",
    "    img=np.reshape(df.iloc[indx[i], 0:-1], (28,28))\n",
    "    img=img.astype('float')\n",
    "    plt.imshow(img)"
   ]
  },
  {
   "cell_type": "code",
   "execution_count": null,
   "id": "c3236372",
   "metadata": {},
   "outputs": [],
   "source": []
  },
  {
   "cell_type": "markdown",
   "id": "4a2f0cae",
   "metadata": {},
   "source": [
    "## SPRINT 2 - Build a model"
   ]
  },
  {
   "cell_type": "markdown",
   "id": "b1e69bc3",
   "metadata": {},
   "source": [
    "### Task A - Perform data preprocessing on the given image data and convert it into numerical vectors."
   ]
  },
  {
   "cell_type": "markdown",
   "id": "e757f366",
   "metadata": {},
   "source": [
    "## Step 3 - Segregate Inputs(X) and output(y)"
   ]
  },
  {
   "cell_type": "code",
   "execution_count": 21,
   "id": "a75734bd",
   "metadata": {},
   "outputs": [],
   "source": [
    "#Define the Predictors(X) and target Variable(y)\n",
    "X=df.drop(columns=['labels'])\n",
    "y=df['labels']"
   ]
  },
  {
   "cell_type": "markdown",
   "id": "5b7c9727",
   "metadata": {},
   "source": [
    "## Step 4 - Split the data into Train and Test"
   ]
  },
  {
   "cell_type": "code",
   "execution_count": 22,
   "id": "c006d10f",
   "metadata": {},
   "outputs": [
    {
     "name": "stdout",
     "output_type": "stream",
     "text": [
      "(19519, 784) (19519,)\n",
      "(6507, 784) (19519,)\n"
     ]
    }
   ],
   "source": [
    "# Split into train and test\n",
    "from sklearn.model_selection import train_test_split\n",
    "\n",
    "X_train,X_test, y_train, y_test = train_test_split(X,y,test_size=0.25, random_state=0)\n",
    "\n",
    "print(X_train.shape, y_train.shape)\n",
    "print(X_test.shape, y_train.shape)"
   ]
  },
  {
   "cell_type": "markdown",
   "id": "4716d26a",
   "metadata": {},
   "source": [
    "## Step 5 & 7 - Data Preparation\n",
    "\n",
    "### Data Preparation on Train data"
   ]
  },
  {
   "cell_type": "code",
   "execution_count": 23,
   "id": "a66eb6fb",
   "metadata": {},
   "outputs": [
    {
     "data": {
      "text/html": [
       "<div>\n",
       "<style scoped>\n",
       "    .dataframe tbody tr th:only-of-type {\n",
       "        vertical-align: middle;\n",
       "    }\n",
       "\n",
       "    .dataframe tbody tr th {\n",
       "        vertical-align: top;\n",
       "    }\n",
       "\n",
       "    .dataframe thead th {\n",
       "        text-align: right;\n",
       "    }\n",
       "</style>\n",
       "<table border=\"1\" class=\"dataframe\">\n",
       "  <thead>\n",
       "    <tr style=\"text-align: right;\">\n",
       "      <th></th>\n",
       "      <th>pixel_0</th>\n",
       "      <th>pixel_1</th>\n",
       "      <th>pixel_2</th>\n",
       "      <th>pixel_3</th>\n",
       "      <th>pixel_4</th>\n",
       "      <th>pixel_5</th>\n",
       "      <th>pixel_6</th>\n",
       "      <th>pixel_7</th>\n",
       "      <th>pixel_8</th>\n",
       "      <th>pixel_9</th>\n",
       "      <th>...</th>\n",
       "      <th>pixel_774</th>\n",
       "      <th>pixel_775</th>\n",
       "      <th>pixel_776</th>\n",
       "      <th>pixel_777</th>\n",
       "      <th>pixel_778</th>\n",
       "      <th>pixel_779</th>\n",
       "      <th>pixel_780</th>\n",
       "      <th>pixel_781</th>\n",
       "      <th>pixel_782</th>\n",
       "      <th>pixel_783</th>\n",
       "    </tr>\n",
       "  </thead>\n",
       "  <tbody>\n",
       "    <tr>\n",
       "      <th>18071</th>\n",
       "      <td>0.0</td>\n",
       "      <td>0.0</td>\n",
       "      <td>0.0</td>\n",
       "      <td>0.0</td>\n",
       "      <td>0.0</td>\n",
       "      <td>0.0</td>\n",
       "      <td>0.0</td>\n",
       "      <td>0.0</td>\n",
       "      <td>0.0</td>\n",
       "      <td>0.0</td>\n",
       "      <td>...</td>\n",
       "      <td>0.0</td>\n",
       "      <td>0.0</td>\n",
       "      <td>0.0</td>\n",
       "      <td>0.0</td>\n",
       "      <td>0.0</td>\n",
       "      <td>0.0</td>\n",
       "      <td>0.0</td>\n",
       "      <td>0.0</td>\n",
       "      <td>0.0</td>\n",
       "      <td>0.0</td>\n",
       "    </tr>\n",
       "    <tr>\n",
       "      <th>15779</th>\n",
       "      <td>0.0</td>\n",
       "      <td>0.0</td>\n",
       "      <td>0.0</td>\n",
       "      <td>0.0</td>\n",
       "      <td>0.0</td>\n",
       "      <td>0.0</td>\n",
       "      <td>0.0</td>\n",
       "      <td>0.0</td>\n",
       "      <td>0.0</td>\n",
       "      <td>0.0</td>\n",
       "      <td>...</td>\n",
       "      <td>0.0</td>\n",
       "      <td>0.0</td>\n",
       "      <td>0.0</td>\n",
       "      <td>0.0</td>\n",
       "      <td>0.0</td>\n",
       "      <td>0.0</td>\n",
       "      <td>0.0</td>\n",
       "      <td>0.0</td>\n",
       "      <td>0.0</td>\n",
       "      <td>0.0</td>\n",
       "    </tr>\n",
       "    <tr>\n",
       "      <th>12816</th>\n",
       "      <td>0.0</td>\n",
       "      <td>0.0</td>\n",
       "      <td>0.0</td>\n",
       "      <td>0.0</td>\n",
       "      <td>0.0</td>\n",
       "      <td>0.0</td>\n",
       "      <td>0.0</td>\n",
       "      <td>0.0</td>\n",
       "      <td>0.0</td>\n",
       "      <td>0.0</td>\n",
       "      <td>...</td>\n",
       "      <td>0.0</td>\n",
       "      <td>0.0</td>\n",
       "      <td>0.0</td>\n",
       "      <td>0.0</td>\n",
       "      <td>0.0</td>\n",
       "      <td>0.0</td>\n",
       "      <td>0.0</td>\n",
       "      <td>0.0</td>\n",
       "      <td>0.0</td>\n",
       "      <td>0.0</td>\n",
       "    </tr>\n",
       "    <tr>\n",
       "      <th>2962</th>\n",
       "      <td>0.0</td>\n",
       "      <td>0.0</td>\n",
       "      <td>0.0</td>\n",
       "      <td>0.0</td>\n",
       "      <td>0.0</td>\n",
       "      <td>0.0</td>\n",
       "      <td>0.0</td>\n",
       "      <td>0.0</td>\n",
       "      <td>0.0</td>\n",
       "      <td>0.0</td>\n",
       "      <td>...</td>\n",
       "      <td>0.0</td>\n",
       "      <td>0.0</td>\n",
       "      <td>0.0</td>\n",
       "      <td>0.0</td>\n",
       "      <td>0.0</td>\n",
       "      <td>0.0</td>\n",
       "      <td>0.0</td>\n",
       "      <td>0.0</td>\n",
       "      <td>0.0</td>\n",
       "      <td>0.0</td>\n",
       "    </tr>\n",
       "    <tr>\n",
       "      <th>11684</th>\n",
       "      <td>0.0</td>\n",
       "      <td>0.0</td>\n",
       "      <td>0.0</td>\n",
       "      <td>0.0</td>\n",
       "      <td>0.0</td>\n",
       "      <td>0.0</td>\n",
       "      <td>0.0</td>\n",
       "      <td>0.0</td>\n",
       "      <td>0.0</td>\n",
       "      <td>0.0</td>\n",
       "      <td>...</td>\n",
       "      <td>0.0</td>\n",
       "      <td>0.0</td>\n",
       "      <td>0.0</td>\n",
       "      <td>0.0</td>\n",
       "      <td>0.0</td>\n",
       "      <td>0.0</td>\n",
       "      <td>0.0</td>\n",
       "      <td>0.0</td>\n",
       "      <td>0.0</td>\n",
       "      <td>0.0</td>\n",
       "    </tr>\n",
       "  </tbody>\n",
       "</table>\n",
       "<p>5 rows × 784 columns</p>\n",
       "</div>"
      ],
      "text/plain": [
       "       pixel_0  pixel_1  pixel_2  pixel_3  pixel_4  pixel_5  pixel_6  pixel_7  \\\n",
       "18071      0.0      0.0      0.0      0.0      0.0      0.0      0.0      0.0   \n",
       "15779      0.0      0.0      0.0      0.0      0.0      0.0      0.0      0.0   \n",
       "12816      0.0      0.0      0.0      0.0      0.0      0.0      0.0      0.0   \n",
       "2962       0.0      0.0      0.0      0.0      0.0      0.0      0.0      0.0   \n",
       "11684      0.0      0.0      0.0      0.0      0.0      0.0      0.0      0.0   \n",
       "\n",
       "       pixel_8  pixel_9  ...  pixel_774  pixel_775  pixel_776  pixel_777  \\\n",
       "18071      0.0      0.0  ...        0.0        0.0        0.0        0.0   \n",
       "15779      0.0      0.0  ...        0.0        0.0        0.0        0.0   \n",
       "12816      0.0      0.0  ...        0.0        0.0        0.0        0.0   \n",
       "2962       0.0      0.0  ...        0.0        0.0        0.0        0.0   \n",
       "11684      0.0      0.0  ...        0.0        0.0        0.0        0.0   \n",
       "\n",
       "       pixel_778  pixel_779  pixel_780  pixel_781  pixel_782  pixel_783  \n",
       "18071        0.0        0.0        0.0        0.0        0.0        0.0  \n",
       "15779        0.0        0.0        0.0        0.0        0.0        0.0  \n",
       "12816        0.0        0.0        0.0        0.0        0.0        0.0  \n",
       "2962         0.0        0.0        0.0        0.0        0.0        0.0  \n",
       "11684        0.0        0.0        0.0        0.0        0.0        0.0  \n",
       "\n",
       "[5 rows x 784 columns]"
      ]
     },
     "execution_count": 23,
     "metadata": {},
     "output_type": "execute_result"
    }
   ],
   "source": [
    "from sklearn.preprocessing import MinMaxScaler\n",
    "\n",
    "minmax_scaler = MinMaxScaler()\n",
    "\n",
    "X_train_transformed = pd.DataFrame(minmax_scaler.fit_transform(X_train),\n",
    "                                   columns=minmax_scaler.get_feature_names_out(),\n",
    "                                   index=X_train.index)\n",
    "\n",
    "X_train_transformed.head()"
   ]
  },
  {
   "cell_type": "markdown",
   "id": "cf13f36c",
   "metadata": {},
   "source": [
    "### Data Preparation on Test Data"
   ]
  },
  {
   "cell_type": "code",
   "execution_count": 24,
   "id": "41bcc5fd",
   "metadata": {},
   "outputs": [
    {
     "data": {
      "text/html": [
       "<div>\n",
       "<style scoped>\n",
       "    .dataframe tbody tr th:only-of-type {\n",
       "        vertical-align: middle;\n",
       "    }\n",
       "\n",
       "    .dataframe tbody tr th {\n",
       "        vertical-align: top;\n",
       "    }\n",
       "\n",
       "    .dataframe thead th {\n",
       "        text-align: right;\n",
       "    }\n",
       "</style>\n",
       "<table border=\"1\" class=\"dataframe\">\n",
       "  <thead>\n",
       "    <tr style=\"text-align: right;\">\n",
       "      <th></th>\n",
       "      <th>pixel_0</th>\n",
       "      <th>pixel_1</th>\n",
       "      <th>pixel_2</th>\n",
       "      <th>pixel_3</th>\n",
       "      <th>pixel_4</th>\n",
       "      <th>pixel_5</th>\n",
       "      <th>pixel_6</th>\n",
       "      <th>pixel_7</th>\n",
       "      <th>pixel_8</th>\n",
       "      <th>pixel_9</th>\n",
       "      <th>...</th>\n",
       "      <th>pixel_774</th>\n",
       "      <th>pixel_775</th>\n",
       "      <th>pixel_776</th>\n",
       "      <th>pixel_777</th>\n",
       "      <th>pixel_778</th>\n",
       "      <th>pixel_779</th>\n",
       "      <th>pixel_780</th>\n",
       "      <th>pixel_781</th>\n",
       "      <th>pixel_782</th>\n",
       "      <th>pixel_783</th>\n",
       "    </tr>\n",
       "  </thead>\n",
       "  <tbody>\n",
       "    <tr>\n",
       "      <th>6853</th>\n",
       "      <td>0.0</td>\n",
       "      <td>0.0</td>\n",
       "      <td>0.0</td>\n",
       "      <td>0.0</td>\n",
       "      <td>0.0</td>\n",
       "      <td>0.0</td>\n",
       "      <td>0.0</td>\n",
       "      <td>0.0</td>\n",
       "      <td>0.0</td>\n",
       "      <td>0.0</td>\n",
       "      <td>...</td>\n",
       "      <td>0.0</td>\n",
       "      <td>0.0</td>\n",
       "      <td>0.0</td>\n",
       "      <td>0.0</td>\n",
       "      <td>0.0</td>\n",
       "      <td>0.0</td>\n",
       "      <td>0.0</td>\n",
       "      <td>0.0</td>\n",
       "      <td>0.0</td>\n",
       "      <td>0.0</td>\n",
       "    </tr>\n",
       "    <tr>\n",
       "      <th>16555</th>\n",
       "      <td>0.0</td>\n",
       "      <td>0.0</td>\n",
       "      <td>0.0</td>\n",
       "      <td>0.0</td>\n",
       "      <td>0.0</td>\n",
       "      <td>0.0</td>\n",
       "      <td>0.0</td>\n",
       "      <td>0.0</td>\n",
       "      <td>0.0</td>\n",
       "      <td>0.0</td>\n",
       "      <td>...</td>\n",
       "      <td>0.0</td>\n",
       "      <td>0.0</td>\n",
       "      <td>0.0</td>\n",
       "      <td>0.0</td>\n",
       "      <td>0.0</td>\n",
       "      <td>0.0</td>\n",
       "      <td>0.0</td>\n",
       "      <td>0.0</td>\n",
       "      <td>0.0</td>\n",
       "      <td>0.0</td>\n",
       "    </tr>\n",
       "    <tr>\n",
       "      <th>22589</th>\n",
       "      <td>0.0</td>\n",
       "      <td>0.0</td>\n",
       "      <td>0.0</td>\n",
       "      <td>0.0</td>\n",
       "      <td>0.0</td>\n",
       "      <td>0.0</td>\n",
       "      <td>0.0</td>\n",
       "      <td>0.0</td>\n",
       "      <td>0.0</td>\n",
       "      <td>0.0</td>\n",
       "      <td>...</td>\n",
       "      <td>0.0</td>\n",
       "      <td>0.0</td>\n",
       "      <td>0.0</td>\n",
       "      <td>0.0</td>\n",
       "      <td>0.0</td>\n",
       "      <td>0.0</td>\n",
       "      <td>0.0</td>\n",
       "      <td>0.0</td>\n",
       "      <td>0.0</td>\n",
       "      <td>0.0</td>\n",
       "    </tr>\n",
       "    <tr>\n",
       "      <th>7368</th>\n",
       "      <td>0.0</td>\n",
       "      <td>0.0</td>\n",
       "      <td>0.0</td>\n",
       "      <td>0.0</td>\n",
       "      <td>0.0</td>\n",
       "      <td>0.0</td>\n",
       "      <td>0.0</td>\n",
       "      <td>0.0</td>\n",
       "      <td>0.0</td>\n",
       "      <td>0.0</td>\n",
       "      <td>...</td>\n",
       "      <td>0.0</td>\n",
       "      <td>0.0</td>\n",
       "      <td>0.0</td>\n",
       "      <td>0.0</td>\n",
       "      <td>0.0</td>\n",
       "      <td>0.0</td>\n",
       "      <td>0.0</td>\n",
       "      <td>0.0</td>\n",
       "      <td>0.0</td>\n",
       "      <td>0.0</td>\n",
       "    </tr>\n",
       "    <tr>\n",
       "      <th>23324</th>\n",
       "      <td>0.0</td>\n",
       "      <td>0.0</td>\n",
       "      <td>0.0</td>\n",
       "      <td>0.0</td>\n",
       "      <td>0.0</td>\n",
       "      <td>0.0</td>\n",
       "      <td>0.0</td>\n",
       "      <td>0.0</td>\n",
       "      <td>0.0</td>\n",
       "      <td>0.0</td>\n",
       "      <td>...</td>\n",
       "      <td>0.0</td>\n",
       "      <td>0.0</td>\n",
       "      <td>0.0</td>\n",
       "      <td>0.0</td>\n",
       "      <td>0.0</td>\n",
       "      <td>0.0</td>\n",
       "      <td>0.0</td>\n",
       "      <td>0.0</td>\n",
       "      <td>0.0</td>\n",
       "      <td>0.0</td>\n",
       "    </tr>\n",
       "  </tbody>\n",
       "</table>\n",
       "<p>5 rows × 784 columns</p>\n",
       "</div>"
      ],
      "text/plain": [
       "       pixel_0  pixel_1  pixel_2  pixel_3  pixel_4  pixel_5  pixel_6  pixel_7  \\\n",
       "6853       0.0      0.0      0.0      0.0      0.0      0.0      0.0      0.0   \n",
       "16555      0.0      0.0      0.0      0.0      0.0      0.0      0.0      0.0   \n",
       "22589      0.0      0.0      0.0      0.0      0.0      0.0      0.0      0.0   \n",
       "7368       0.0      0.0      0.0      0.0      0.0      0.0      0.0      0.0   \n",
       "23324      0.0      0.0      0.0      0.0      0.0      0.0      0.0      0.0   \n",
       "\n",
       "       pixel_8  pixel_9  ...  pixel_774  pixel_775  pixel_776  pixel_777  \\\n",
       "6853       0.0      0.0  ...        0.0        0.0        0.0        0.0   \n",
       "16555      0.0      0.0  ...        0.0        0.0        0.0        0.0   \n",
       "22589      0.0      0.0  ...        0.0        0.0        0.0        0.0   \n",
       "7368       0.0      0.0  ...        0.0        0.0        0.0        0.0   \n",
       "23324      0.0      0.0  ...        0.0        0.0        0.0        0.0   \n",
       "\n",
       "       pixel_778  pixel_779  pixel_780  pixel_781  pixel_782  pixel_783  \n",
       "6853         0.0        0.0        0.0        0.0        0.0        0.0  \n",
       "16555        0.0        0.0        0.0        0.0        0.0        0.0  \n",
       "22589        0.0        0.0        0.0        0.0        0.0        0.0  \n",
       "7368         0.0        0.0        0.0        0.0        0.0        0.0  \n",
       "23324        0.0        0.0        0.0        0.0        0.0        0.0  \n",
       "\n",
       "[5 rows x 784 columns]"
      ]
     },
     "execution_count": 24,
     "metadata": {},
     "output_type": "execute_result"
    }
   ],
   "source": [
    "X_test_transformed = pd.DataFrame(minmax_scaler.transform(X_test),\n",
    "                                  columns=minmax_scaler.get_feature_names_out(),\n",
    "                                  index=X_test.index)\n",
    "\n",
    "X_test_transformed.head()"
   ]
  },
  {
   "cell_type": "markdown",
   "id": "dac592f8",
   "metadata": {},
   "source": [
    "### Task B - Given an image, build a model that can recognise the character."
   ]
  },
  {
   "cell_type": "markdown",
   "id": "4d8e812e",
   "metadata": {},
   "source": [
    "## Step 6, 9 & 9 - Training and Testing Phase"
   ]
  },
  {
   "cell_type": "markdown",
   "id": "989f0986",
   "metadata": {},
   "source": [
    "### Logistic Regression"
   ]
  },
  {
   "cell_type": "code",
   "execution_count": 29,
   "id": "77862267",
   "metadata": {},
   "outputs": [],
   "source": [
    "import time"
   ]
  },
  {
   "cell_type": "code",
   "execution_count": 30,
   "id": "dd05e5b0",
   "metadata": {},
   "outputs": [
    {
     "name": "stdout",
     "output_type": "stream",
     "text": [
      "Model's Accuracy : 0.8347932995235899\n",
      "Training Time : 9.56290864944458\n",
      "Predicting Time 0.10845661163330078\n",
      "CPU times: total: 31.5 s\n",
      "Wall time: 9.68 s\n"
     ]
    },
    {
     "name": "stderr",
     "output_type": "stream",
     "text": [
      "C:\\Users\\LENOVO\\anaconda3\\Lib\\site-packages\\sklearn\\linear_model\\_logistic.py:460: ConvergenceWarning: lbfgs failed to converge (status=1):\n",
      "STOP: TOTAL NO. of ITERATIONS REACHED LIMIT.\n",
      "\n",
      "Increase the number of iterations (max_iter) or scale the data as shown in:\n",
      "    https://scikit-learn.org/stable/modules/preprocessing.html\n",
      "Please also refer to the documentation for alternative solver options:\n",
      "    https://scikit-learn.org/stable/modules/linear_model.html#logistic-regression\n",
      "  n_iter_i = _check_optimize_result(\n"
     ]
    }
   ],
   "source": [
    "%%time \n",
    "\n",
    "from sklearn.linear_model import LogisticRegression\n",
    "from sklearn import metrics\n",
    "\n",
    "lr_classifier = LogisticRegression()\n",
    "\n",
    "start_time=time.time()\n",
    "lr_classifier.fit(X_train_transformed,y_train)\n",
    "end_time=time.time()\n",
    "lr_time=end_time-start_time\n",
    "\n",
    "start_time=time.time()\n",
    "y_test_predict=lr_classifier.predict(X_test_transformed)\n",
    "end_time=time.time()\n",
    "lr_predict_time=end_time-start_time\n",
    "lr_score=metrics.accuracy_score(y_test,y_test_predict)\n",
    "\n",
    "print(\"Model's Accuracy :\", lr_score)\n",
    "print(\"Training Time :\",lr_time)\n",
    "print(\"Predicting Time\",lr_predict_time)"
   ]
  },
  {
   "cell_type": "markdown",
   "id": "27dda895",
   "metadata": {},
   "source": [
    "### Naive Baye's "
   ]
  },
  {
   "cell_type": "code",
   "execution_count": 32,
   "id": "51574219",
   "metadata": {},
   "outputs": [
    {
     "name": "stdout",
     "output_type": "stream",
     "text": [
      "Model's Accuracy : 0.702166897187644\n",
      "Training Time : 0.27291321754455566\n",
      "Predicting Time 0.07818412780761719\n",
      "CPU times: total: 750 ms\n",
      "Wall time: 371 ms\n"
     ]
    }
   ],
   "source": [
    "%%time \n",
    "\n",
    "from sklearn.naive_bayes import MultinomialNB\n",
    "from sklearn import metrics\n",
    "\n",
    "nb_classifier = MultinomialNB()\n",
    "start_time=time.time()\n",
    "nb_classifier.fit(X_train_transformed,y_train)\n",
    "end_time=time.time()\n",
    "nb_time=end_time-start_time\n",
    "\n",
    "start_time=time.time()\n",
    "y_test_predict=nb_classifier.predict(X_test_transformed)\n",
    "end_time=time.time()\n",
    "nb_predict_time=end_time-start_time\n",
    "\n",
    "nb_score=metrics.accuracy_score(y_test,y_test_predict)\n",
    "\n",
    "print(\"Model's Accuracy :\", nb_score)\n",
    "print(\"Training Time :\",nb_time)\n",
    "print(\"Predicting Time\",nb_predict_time)"
   ]
  },
  {
   "cell_type": "markdown",
   "id": "2c5165e2",
   "metadata": {},
   "source": [
    "### Decision Tree"
   ]
  },
  {
   "cell_type": "code",
   "execution_count": 35,
   "id": "f95849cc",
   "metadata": {},
   "outputs": [
    {
     "name": "stdout",
     "output_type": "stream",
     "text": [
      "Model's Accuracy : 0.7015521745812202\n",
      "Training Time : 19.74310064315796\n",
      "Predicting Time 0.07797527313232422\n",
      "CPU times: total: 19.6 s\n",
      "Wall time: 19.8 s\n"
     ]
    }
   ],
   "source": [
    "%%time \n",
    "\n",
    "from sklearn.tree import DecisionTreeClassifier\n",
    "from sklearn import metrics\n",
    "\n",
    "dt_classifier = DecisionTreeClassifier()\n",
    "start_time=time.time()\n",
    "dt_classifier.fit(X_train_transformed,y_train)\n",
    "end_time=time.time()\n",
    "dt_time=end_time-start_time\n",
    "\n",
    "start_time=time.time()\n",
    "y_test_predict=dt_classifier.predict(X_test_transformed)\n",
    "end_time=time.time()\n",
    "dt_predict_time=end_time-start_time\n",
    "\n",
    "dt_score=metrics.accuracy_score(y_test,y_test_predict)\n",
    "\n",
    "print(\"Model's Accuracy :\", dt_score)\n",
    "print(\"Training Time :\",dt_time)\n",
    "print(\"Predicting Time\",dt_predict_time)"
   ]
  },
  {
   "cell_type": "code",
   "execution_count": null,
   "id": "5108236d",
   "metadata": {},
   "outputs": [],
   "source": []
  },
  {
   "cell_type": "markdown",
   "id": "b8931266",
   "metadata": {},
   "source": [
    "### 2. Show me the comparison of various ML models.\n"
   ]
  },
  {
   "cell_type": "code",
   "execution_count": 36,
   "id": "4c4dd5c9",
   "metadata": {},
   "outputs": [
    {
     "data": {
      "text/html": [
       "<div>\n",
       "<style scoped>\n",
       "    .dataframe tbody tr th:only-of-type {\n",
       "        vertical-align: middle;\n",
       "    }\n",
       "\n",
       "    .dataframe tbody tr th {\n",
       "        vertical-align: top;\n",
       "    }\n",
       "\n",
       "    .dataframe thead th {\n",
       "        text-align: right;\n",
       "    }\n",
       "</style>\n",
       "<table border=\"1\" class=\"dataframe\">\n",
       "  <thead>\n",
       "    <tr style=\"text-align: right;\">\n",
       "      <th></th>\n",
       "      <th>Model</th>\n",
       "      <th>Accuracy</th>\n",
       "      <th>Training Time</th>\n",
       "      <th>Prediction Time</th>\n",
       "    </tr>\n",
       "  </thead>\n",
       "  <tbody>\n",
       "    <tr>\n",
       "      <th>0</th>\n",
       "      <td>Logistic Regression</td>\n",
       "      <td>0.834793</td>\n",
       "      <td>9.562909</td>\n",
       "      <td>0.108457</td>\n",
       "    </tr>\n",
       "    <tr>\n",
       "      <th>1</th>\n",
       "      <td>Naive Bayes</td>\n",
       "      <td>0.702167</td>\n",
       "      <td>0.272913</td>\n",
       "      <td>0.078184</td>\n",
       "    </tr>\n",
       "    <tr>\n",
       "      <th>2</th>\n",
       "      <td>Decision Tree</td>\n",
       "      <td>0.701552</td>\n",
       "      <td>19.743101</td>\n",
       "      <td>0.077975</td>\n",
       "    </tr>\n",
       "  </tbody>\n",
       "</table>\n",
       "</div>"
      ],
      "text/plain": [
       "                 Model  Accuracy  Training Time  Prediction Time\n",
       "0  Logistic Regression  0.834793       9.562909         0.108457\n",
       "1          Naive Bayes  0.702167       0.272913         0.078184\n",
       "2        Decision Tree  0.701552      19.743101         0.077975"
      ]
     },
     "execution_count": 36,
     "metadata": {},
     "output_type": "execute_result"
    }
   ],
   "source": [
    "data={\"Model\":[\"Logistic Regression\", \"Naive Bayes\", \"Decision Tree\"],\n",
    "      \"Accuracy\":[lr_score, nb_score, dt_score],\n",
    "      \"Training Time\": [lr_time, nb_time, dt_time],\n",
    "      \"Prediction Time\": [lr_predict_time, nb_predict_time, dt_predict_time]}\n",
    "\n",
    "model_df = pd.DataFrame(data)\n",
    "model_df"
   ]
  },
  {
   "cell_type": "code",
   "execution_count": 49,
   "id": "a325dc40",
   "metadata": {},
   "outputs": [
    {
     "data": {
      "text/plain": [
       "<Axes: xlabel='Model', ylabel='Accuracy'>"
      ]
     },
     "execution_count": 49,
     "metadata": {},
     "output_type": "execute_result"
    },
    {
     "data": {
      "image/png": "[encoded data removed]",
      "text/plain": [
       "<Figure size 640x480 with 1 Axes>"
      ]
     },
     "metadata": {},
     "output_type": "display_data"
    }
   ],
   "source": [
    "sns.barplot(data=model_df, x='Model', y='Accuracy')"
   ]
  },
  {
   "cell_type": "code",
   "execution_count": 65,
   "id": "3dc3c9ab",
   "metadata": {},
   "outputs": [
    {
     "data": {
      "image/png": "[encoded data removed]",
      "text/plain": [
       "<Figure size 1800x500 with 2 Axes>"
      ]
     },
     "metadata": {},
     "output_type": "display_data"
    }
   ],
   "source": [
    "# Plotting\n",
    "fig, axs = plt.subplots(1, 2, figsize=(18, 5))\n",
    "\n",
    "# Training Time\n",
    "sns.barplot(data=model_df, x=\"Model\", y=\"Training Time\", ax=axs[0])\n",
    "axs[0].set_title(\"Training Time\")\n",
    "for p in axs[0].patches:\n",
    "    axs[0].annotate(f'{p.get_height():.2f}',\n",
    "                    (p.get_x() + p.get_width() / 2., p.get_height()),\n",
    "                    ha='center', va='center',\n",
    "                    xytext=(0, 9),\n",
    "                    textcoords='offset points')\n",
    "\n",
    "# Prediction Time\n",
    "sns.barplot(data=model_df, x=\"Model\", y=\"Prediction Time\", ax=axs[1])\n",
    "axs[1].set_title(\"Prediction Time\")\n",
    "for p in axs[1].patches:\n",
    "    axs[1].annotate(f'{p.get_height():.2f}',\n",
    "                    (p.get_x() + p.get_width() / 2., p.get_height()),\n",
    "                    ha='center', va='center',\n",
    "                    xytext=(0, 9),\n",
    "                    textcoords='offset points')\n",
    "\n",
    "# Set the same y-axis scale for both Training Time and Prediction Time\n",
    "y_min = min(model_df[\"Training Time\"].min(), model_df[\"Prediction Time\"].min())\n",
    "y_max = max(model_df[\"Training Time\"].max(), model_df[\"Prediction Time\"].max())\n",
    "\n",
    "axs[0].set_ylim([y_min, y_max])\n",
    "axs[1].set_ylim([y_min, y_max])\n",
    "\n",
    "# Show plot\n",
    "plt.show()\n"
   ]
  },
  {
   "cell_type": "markdown",
   "id": "67762504",
   "metadata": {},
   "source": [
    "### 3. Model should be light for deployment.\n",
    "\n",
    "Logistic Regression and Naive Baye's are generally light weight"
   ]
  },
  {
   "cell_type": "markdown",
   "id": "43ff86d2",
   "metadata": {},
   "source": [
    "### 4. Model should have very less latency.\n",
    "\n",
    "Naive Bayes is taking less time to predict compared to other models. However, Logistic Regression is providing more accurate results compare to other and also having relatively low latency. Therefore, Logistic Regression model can be used for deployment"
   ]
  },
  {
   "cell_type": "code",
   "execution_count": null,
   "id": "cc1db340",
   "metadata": {},
   "outputs": [],
   "source": []
  }
 ],
 "metadata": {
  "kernelspec": {
   "display_name": "Python 3 (ipykernel)",
   "language": "python",
   "name": "python3"
  },
  "language_info": {
   "codemirror_mode": {
    "name": "ipython",
    "version": 3
   },
   "file_extension": ".py",
   "mimetype": "text/x-python",
   "name": "python",
   "nbconvert_exporter": "python",
   "pygments_lexer": "ipython3",
   "version": "3.11.5"
  }
 },
 "nbformat": 4,
 "nbformat_minor": 5
}
